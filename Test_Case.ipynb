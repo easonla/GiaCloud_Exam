{
 "cells": [
  {
   "cell_type": "code",
   "execution_count": null,
   "metadata": {
    "collapsed": true
   },
   "outputs": [],
   "source": [
    "import nltk\n",
    "from nltk.util import ngrams\n",
    "import operator\n",
    "\n",
    "def word_grams(words, n):\n",
    "    grams = {}\n",
    "    for pair in ngrams(words, n):\n",
    "        if pair not in grams:\n",
    "            grams[pair] = 1\n",
    "        else:\n",
    "            grams[pair] += 1\n",
    "    return grams\n",
    "\n",
    "def prob(grams):\n",
    "    grams_prob = grams.copy()\n",
    "    d = sum(grams.values())\n",
    "    for gram in grams_prob:\n",
    "        grams_prob[gram] = grams_prob[gram]/d\n",
    "    return grams_prob\n",
    "\n",
    "#Quiz 2-1\n",
    "def ngram_probs(filenme='data/raw_sentences.txt'):\n",
    "    with open('data/raw_sentences.txt', 'r') as f:\n",
    "        w = ' '.join(s.strip().lower() for s in f.readlines())\n",
    "    bigrams = word_grams(w.split(),2)\n",
    "    trigrams = word_grams(w.split(),3)\n",
    "    return prob(bigrams),prob(trigrams)\n",
    "\n",
    "#Quiz 2-2\n",
    "def prob3(bigram, cnt2=cnt2, cnt3=cnt3):\n",
    "    if bigram not in cnt2: return None\n",
    "    else : prob = cnt2[bigram]\n",
    "    next_word_prob = {}\n",
    "    for p in cnt3:\n",
    "        if p[:2]==bigram: \n",
    "            next_word_prob[p[2]] = cnt2[bigram]/cnt3[p]\n",
    "    return next_word_prob\n",
    "\n",
    "#Quiz 2-3\n",
    "def predict_max(starting, cnt2=cnt2, cnt3=cnt3):\n",
    "    sentence = list(starting)\n",
    "    while True:\n",
    "        next_word_prob = prob3(starting)\n",
    "        next_word = max(next_word_prob.items(), key=operator.itemgetter(1))[0]\n",
    "        sentence.append(next_word)\n",
    "        if len(sentence) <= 15 and next_word != \".\":\n",
    "            starting = (starting[1],next_word)\n",
    "        else:\n",
    "            break\n",
    "    return sentence"
   ]
  },
  {
   "cell_type": "code",
   "execution_count": 38,
   "metadata": {
    "collapsed": false
   },
   "outputs": [
    {
     "name": "stdout",
     "output_type": "stream",
     "text": [
      "{('one', 'two'): 1, ('two', 'three'): 1, ('three', 'four'): 1}\n"
     ]
    }
   ],
   "source": [
    "import nltk\n",
    "from nltk.util import ngrams\n",
    "\n",
    "def word_grams(words, n):\n",
    "    grams = {}\n",
    "    for pair in ngrams(words, n):\n",
    "        if pair not in grams:\n",
    "            grams[pair] = 1\n",
    "        else:\n",
    "            grams[pair] += 1\n",
    "    return grams\n",
    "def prob(grams):\n",
    "    grams_prob = grams.copy()\n",
    "    d = sum(grams.values())\n",
    "    for gram in grams_prob:\n",
    "        grams_prob[gram] = grams_prob[gram]/d\n",
    "    return grams_prob\n",
    "\n",
    "print (word_grams('one two three four'.split(' '),2))"
   ]
  },
  {
   "cell_type": "code",
   "execution_count": 40,
   "metadata": {
    "collapsed": true
   },
   "outputs": [],
   "source": [
    "w1 = word_grams('one two three four'.split(' '),2)"
   ]
  },
  {
   "cell_type": "code",
   "execution_count": 46,
   "metadata": {
    "collapsed": true
   },
   "outputs": [],
   "source": [
    "def prob(grams):\n",
    "    grams_prob = grams.copy()\n",
    "    d = sum(grams.values())\n",
    "    for gram in grams_prob:\n",
    "        grams_prob[gram] = grams_prob[gram]/d\n",
    "    return grams_prob"
   ]
  },
  {
   "cell_type": "code",
   "execution_count": 47,
   "metadata": {
    "collapsed": false
   },
   "outputs": [
    {
     "data": {
      "text/plain": [
       "{('one', 'two'): 0.3333333333333333,\n",
       " ('three', 'four'): 0.3333333333333333,\n",
       " ('two', 'three'): 0.3333333333333333}"
      ]
     },
     "execution_count": 47,
     "metadata": {},
     "output_type": "execute_result"
    }
   ],
   "source": [
    "prob(w1)"
   ]
  },
  {
   "cell_type": "code",
   "execution_count": 26,
   "metadata": {
    "collapsed": false
   },
   "outputs": [],
   "source": [
    "with open('data/raw_sentences.txt', 'r') as f:\n",
    "    x = ' '.join(s.strip().lower() for s in f.readlines())"
   ]
  },
  {
   "cell_type": "code",
   "execution_count": 73,
   "metadata": {
    "collapsed": false
   },
   "outputs": [],
   "source": [
    "def ngram_probs(filenme='data/raw_sentences.txt'):\n",
    "    with open('data/raw_sentences.txt', 'r') as f:\n",
    "        w = ' '.join(s.strip().lower() for s in f.readlines())\n",
    "    bigrams = word_grams(w.split(),2)\n",
    "    trigrams = word_grams(w.split(),3)\n",
    "    return prob(bigrams),prob(trigrams)"
   ]
  },
  {
   "cell_type": "code",
   "execution_count": 74,
   "metadata": {
    "collapsed": false
   },
   "outputs": [],
   "source": [
    "cnt2, cnt3 = ngram_probs()"
   ]
  },
  {
   "cell_type": "code",
   "execution_count": 81,
   "metadata": {
    "collapsed": true
   },
   "outputs": [],
   "source": [
    "def prob3(bigram, cnt2=cnt2, cnt3=cnt3):\n",
    "    if bigram not in cnt2: return None\n",
    "    else : prob = cnt2[bigram]\n",
    "    next_word_prob = {}\n",
    "    for p in cnt3:\n",
    "        if p[:2]==bigram: \n",
    "            next_word_prob[p[2]] = cnt3[p]/cnt2[bigram]\n",
    "    return next_word_prob"
   ]
  },
  {
   "cell_type": "code",
   "execution_count": null,
   "metadata": {
    "collapsed": true
   },
   "outputs": [],
   "source": []
  },
  {
   "cell_type": "code",
   "execution_count": 87,
   "metadata": {
    "collapsed": true
   },
   "outputs": [],
   "source": [
    "import operator\n",
    "def predict_max(starting, cnt2=cnt2, cnt3=cnt3):\n",
    "    sentence = list(starting)\n",
    "    while True:\n",
    "        next_word_prob = prob3(starting)\n",
    "        next_word = max(next_word_prob.items(), key=operator.itemgetter(1))[0]\n",
    "        sentence.append(next_word)\n",
    "        if len(sentence) <= 15 and next_word != \".\":\n",
    "            starting = (starting[1],next_word)\n",
    "        else:\n",
    "            break\n",
    "    return sentence"
   ]
  },
  {
   "cell_type": "code",
   "execution_count": 88,
   "metadata": {
    "collapsed": false
   },
   "outputs": [
    {
     "data": {
      "text/plain": [
       "['we', 'are', 'going', 'to', 'do', 'it', '.']"
      ]
     },
     "execution_count": 88,
     "metadata": {},
     "output_type": "execute_result"
    }
   ],
   "source": [
    "predict_max(('we','are'))"
   ]
  },
  {
   "cell_type": "code",
   "execution_count": null,
   "metadata": {
    "collapsed": true
   },
   "outputs": [],
   "source": []
  }
 ],
 "metadata": {
  "anaconda-cloud": {},
  "kernelspec": {
   "display_name": "Python [conda env:NLP]",
   "language": "python",
   "name": "conda-env-NLP-py"
  },
  "language_info": {
   "codemirror_mode": {
    "name": "ipython",
    "version": 3
   },
   "file_extension": ".py",
   "mimetype": "text/x-python",
   "name": "python",
   "nbconvert_exporter": "python",
   "pygments_lexer": "ipython3",
   "version": "3.6.2"
  }
 },
 "nbformat": 4,
 "nbformat_minor": 1
}
